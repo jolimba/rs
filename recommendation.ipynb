{
 "cells": [
  {
   "cell_type": "code",
   "execution_count": 31,
   "metadata": {},
   "outputs": [],
   "source": [
    "import pandas as pd \n",
    "import numpy as np "
   ]
  },
  {
   "cell_type": "code",
   "execution_count": 32,
   "metadata": {},
   "outputs": [],
   "source": [
    "path = 'D:/projetos/fatec/tcc/fast_api/dataset/imdb_top_1000.csv'"
   ]
  },
  {
   "cell_type": "code",
   "execution_count": 33,
   "metadata": {},
   "outputs": [],
   "source": [
    "df = pd.read_csv(path)"
   ]
  },
  {
   "cell_type": "code",
   "execution_count": 34,
   "metadata": {},
   "outputs": [],
   "source": [
    "# df.head(5)"
   ]
  },
  {
   "cell_type": "code",
   "execution_count": 35,
   "metadata": {},
   "outputs": [
    {
     "name": "stdout",
     "output_type": "stream",
     "text": [
      "  (0, 1227)\t0.33698399824839737\n",
      "  (0, 972)\t0.30461257213038234\n",
      "  (0, 149)\t0.31804792787449315\n",
      "  (0, 3964)\t0.2667404313825739\n",
      "  (0, 1670)\t0.33698399824839737\n",
      "  (0, 4514)\t0.31804792787449315\n",
      "  (0, 1853)\t0.28567650175647813\n",
      "  (0, 5399)\t0.19825941693452045\n",
      "  (0, 3344)\t0.31804792787449315\n",
      "  (0, 603)\t0.25736868931337\n",
      "  (0, 3065)\t0.21719548730842467\n",
      "  (0, 2414)\t0.2667404313825739\n",
      "  (1, 4531)\t0.20556758333170772\n",
      "  (1, 4006)\t0.30999614237886564\n",
      "  (1, 1569)\t0.2619172948058759\n",
      "  (1, 889)\t0.34293968489158855\n",
      "  (1, 1053)\t0.30999614237886564\n",
      "  (1, 4986)\t0.34293968489158855\n",
      "  (1, 3538)\t0.32366894788073247\n",
      "  (1, 200)\t0.2714546683571535\n",
      "  (1, 1490)\t0.34293968489158855\n",
      "  (1, 1123)\t0.2192403888335745\n",
      "  (1, 3425)\t0.34293968489158855\n",
      "  (2, 2478)\t0.2674540923321293\n",
      "  (2, 1836)\t0.18601165010693424\n",
      "  :\t:\n",
      "  (998, 1121)\t0.23124203992466122\n",
      "  (998, 3074)\t0.2780806203293929\n",
      "  (998, 594)\t0.2607938939170555\n",
      "  (998, 2391)\t0.19827762006362504\n",
      "  (998, 5251)\t0.15921219401506975\n",
      "  (998, 5370)\t0.14879009384326092\n",
      "  (999, 1646)\t0.27249333442349516\n",
      "  (999, 4621)\t0.2571811742500628\n",
      "  (999, 2469)\t0.2571811742500628\n",
      "  (999, 5044)\t0.2156927033651657\n",
      "  (999, 1084)\t0.2571811742500628\n",
      "  (999, 4642)\t0.22518345041782023\n",
      "  (999, 4599)\t0.22014071300056573\n",
      "  (999, 2860)\t0.22014071300056573\n",
      "  (999, 4307)\t0.18951639265370096\n",
      "  (999, 198)\t0.36738995906584626\n",
      "  (999, 4202)\t0.19396440228910103\n",
      "  (999, 5022)\t0.17150562517610995\n",
      "  (999, 4660)\t0.19396440228910103\n",
      "  (999, 131)\t0.20180578530385374\n",
      "  (999, 2687)\t0.23789013387350896\n",
      "  (999, 2233)\t0.15576186677751522\n",
      "  (999, 2955)\t0.23830600750636105\n",
      "  (999, 4254)\t0.18553751245057953\n",
      "  (999, 4125)\t0.21171382316204423\n"
     ]
    }
   ],
   "source": [
    "#Import TfIdfVectorizer from scikit-learn\n",
    "import os \n",
    "os.system('pip install scikit-learn')\n",
    "from sklearn.feature_extraction.text import TfidfVectorizer\n",
    "\n",
    "#Define a TF-IDF Vectorizer Object. Remove all english stop words such as 'the', 'a'\n",
    "tfidf = TfidfVectorizer(stop_words='english')\n",
    "\n",
    "# Replace NaN with an empty string\n",
    "df['Overview'] = df['Overview'].fillna('')\n",
    "\n",
    "#Construct the required TF-IDF matrix by fitting and transforming the data\n",
    "tfidf_matrix = tfidf.fit_transform(df['Overview'])\n",
    "\n",
    "#Output the shape of tfidf_matrix\n",
    "print(tfidf_matrix)"
   ]
  },
  {
   "cell_type": "code",
   "execution_count": 36,
   "metadata": {},
   "outputs": [],
   "source": [
    "# Import linear_kernel\n",
    "from sklearn.metrics.pairwise import linear_kernel\n",
    "\n",
    "# Compute the cosine similarity matrix\n",
    "cosine_sim = linear_kernel(tfidf_matrix, tfidf_matrix)"
   ]
  },
  {
   "cell_type": "code",
   "execution_count": 37,
   "metadata": {},
   "outputs": [],
   "source": [
    "indices = pd.Series(df.index, index=df['Series_Title']).drop_duplicates()"
   ]
  },
  {
   "cell_type": "code",
   "execution_count": 38,
   "metadata": {},
   "outputs": [],
   "source": [
    "def get_recommendations(title, cosine_sim=cosine_sim):\n",
    "    # index do filme que corresponde ao título\n",
    "    idx = indices[title]\n",
    "\n",
    "    # pontuações de semelhança em pares de todos os filmes com esse filme\n",
    "    sim_scores = list(enumerate(cosine_sim[idx]))\n",
    "\n",
    "    # ordena os filmes com base nas pontuações de semelhança\n",
    "    sim_scores = sorted(sim_scores, key=lambda x: x[1], reverse=True)\n",
    "\n",
    "    # pontuações dos 5 filmes mais parecidos\n",
    "    sim_scores = sim_scores[1:9]\n",
    "\n",
    "    # pega o index dos filmes\n",
    "    movie_indices = [i[0] for i in sim_scores]\n",
    "\n",
    "    # retorna os 10 filmes mais parecidos\n",
    "    return df['Series_Title'].iloc[movie_indices]"
   ]
  },
  {
   "cell_type": "code",
   "execution_count": 39,
   "metadata": {},
   "outputs": [
    {
     "data": {
      "text/plain": [
       "155             Batman Begins\n",
       "63      The Dark Knight Rises\n",
       "33                      Joker\n",
       "241         Kill Bill: Vol. 1\n",
       "291    La battaglia di Algeri\n",
       "952             The Hurricane\n",
       "956                     Mulan\n",
       "740            Wreck-It Ralph\n",
       "Name: Series_Title, dtype: object"
      ]
     },
     "execution_count": 39,
     "metadata": {},
     "output_type": "execute_result"
    }
   ],
   "source": [
    "get_recommendations('The Dark Knight')"
   ]
  }
 ],
 "metadata": {
  "kernelspec": {
   "display_name": "Python 3.10.7 64-bit (microsoft store)",
   "language": "python",
   "name": "python3"
  },
  "language_info": {
   "codemirror_mode": {
    "name": "ipython",
    "version": 3
   },
   "file_extension": ".py",
   "mimetype": "text/x-python",
   "name": "python",
   "nbconvert_exporter": "python",
   "pygments_lexer": "ipython3",
   "version": "3.10.8"
  },
  "orig_nbformat": 4,
  "vscode": {
   "interpreter": {
    "hash": "f0cdbf4ada6043d2e13d4937ebfee6747c5ba97c8ad75900b349b1577540d973"
   }
  }
 },
 "nbformat": 4,
 "nbformat_minor": 2
}
